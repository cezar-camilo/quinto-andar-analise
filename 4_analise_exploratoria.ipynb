{
 "cells": [
  {
   "cell_type": "code",
   "execution_count": 6,
   "metadata": {
    "id": "BsNWAxi4dyc6"
   },
   "outputs": [],
   "source": [
    "import pandas as pd\n",
    "import numpy as np"
   ]
  },
  {
   "cell_type": "code",
   "execution_count": 7,
   "metadata": {
    "id": "p6A5vNW1d_Fa"
   },
   "outputs": [],
   "source": [
    "# Insira aqui o path para seu dataset com as features colhidas de cada URL, e a pasta para extração do CSV tratado em output_path\n",
    "dataset_path = 'datasets/dados_tratados.csv' # indique o caminho até o arquivo CSV com os dados tratados"
   ]
  },
  {
   "cell_type": "code",
   "execution_count": 8,
   "metadata": {
    "colab": {
     "base_uri": "https://localhost:8080/"
    },
    "id": "-drjLrc_eIdD",
    "outputId": "9be9d5f7-d231-4600-e067-dcd90bd6fa74"
   },
   "outputs": [
    {
     "name": "stdout",
     "output_type": "stream",
     "text": [
      "<class 'pandas.core.frame.DataFrame'>\n",
      "RangeIndex: 2775 entries, 0 to 2774\n",
      "Data columns (total 15 columns):\n",
      " #   Column           Non-Null Count  Dtype  \n",
      "---  ------           --------------  -----  \n",
      " 0   bairro           2775 non-null   object \n",
      " 1   aluguel          2775 non-null   float64\n",
      " 2   condominio       2768 non-null   float64\n",
      " 3   iptu             2767 non-null   float64\n",
      " 4   seguro_incendio  2775 non-null   float64\n",
      " 5   taxa_serviço     2775 non-null   float64\n",
      " 6   total            2775 non-null   float64\n",
      " 7   metragem         2775 non-null   float64\n",
      " 8   quarto           2775 non-null   float64\n",
      " 9   banheiro         2775 non-null   float64\n",
      " 10  vaga_carro       2775 non-null   float64\n",
      " 11  andar            2775 non-null   float64\n",
      " 12  aceita_pet       2775 non-null   float64\n",
      " 13  mobilia          2775 non-null   float64\n",
      " 14  metro_prox       2775 non-null   float64\n",
      "dtypes: float64(14), object(1)\n",
      "memory usage: 325.3+ KB\n"
     ]
    }
   ],
   "source": [
    "df = pd.read_csv(dataset_path)\n",
    "df = df.drop(['url'], axis=1) # vamos remover a coluna de urls, pois é irrelevante para a análise\n",
    "df.info() # para exibir os dtypes de cada coluna"
   ]
  },
  {
   "cell_type": "code",
   "execution_count": 9,
   "metadata": {
    "colab": {
     "base_uri": "https://localhost:8080/",
     "height": 317
    },
    "id": "XdleP0Qdgb14",
    "outputId": "4c226426-f05a-4bb5-b6f7-1875fcb8aa90"
   },
   "outputs": [
    {
     "data": {
      "text/html": [
       "<div>\n",
       "<style scoped>\n",
       "    .dataframe tbody tr th:only-of-type {\n",
       "        vertical-align: middle;\n",
       "    }\n",
       "\n",
       "    .dataframe tbody tr th {\n",
       "        vertical-align: top;\n",
       "    }\n",
       "\n",
       "    .dataframe thead th {\n",
       "        text-align: right;\n",
       "    }\n",
       "</style>\n",
       "<table border=\"1\" class=\"dataframe\">\n",
       "  <thead>\n",
       "    <tr style=\"text-align: right;\">\n",
       "      <th></th>\n",
       "      <th>aluguel</th>\n",
       "      <th>condominio</th>\n",
       "      <th>iptu</th>\n",
       "      <th>seguro_incendio</th>\n",
       "      <th>taxa_serviço</th>\n",
       "      <th>total</th>\n",
       "      <th>metragem</th>\n",
       "      <th>quarto</th>\n",
       "      <th>banheiro</th>\n",
       "      <th>vaga_carro</th>\n",
       "      <th>andar</th>\n",
       "      <th>aceita_pet</th>\n",
       "      <th>mobilia</th>\n",
       "      <th>metro_prox</th>\n",
       "    </tr>\n",
       "  </thead>\n",
       "  <tbody>\n",
       "    <tr>\n",
       "      <th>count</th>\n",
       "      <td>2775.000000</td>\n",
       "      <td>2768.000000</td>\n",
       "      <td>2767.000000</td>\n",
       "      <td>2775.000000</td>\n",
       "      <td>2775.000000</td>\n",
       "      <td>2775.000000</td>\n",
       "      <td>2775.000000</td>\n",
       "      <td>2775.000000</td>\n",
       "      <td>2775.000000</td>\n",
       "      <td>2775.000000</td>\n",
       "      <td>2775.000000</td>\n",
       "      <td>2775.000000</td>\n",
       "      <td>2775.000000</td>\n",
       "      <td>2775.000000</td>\n",
       "    </tr>\n",
       "    <tr>\n",
       "      <th>mean</th>\n",
       "      <td>2279.097297</td>\n",
       "      <td>598.122832</td>\n",
       "      <td>283.561980</td>\n",
       "      <td>29.955315</td>\n",
       "      <td>45.379099</td>\n",
       "      <td>3235.018378</td>\n",
       "      <td>63.785586</td>\n",
       "      <td>1.593514</td>\n",
       "      <td>1.398919</td>\n",
       "      <td>0.628108</td>\n",
       "      <td>5.930090</td>\n",
       "      <td>0.774414</td>\n",
       "      <td>0.202162</td>\n",
       "      <td>0.734054</td>\n",
       "    </tr>\n",
       "    <tr>\n",
       "      <th>std</th>\n",
       "      <td>1329.689743</td>\n",
       "      <td>430.102106</td>\n",
       "      <td>9424.657082</td>\n",
       "      <td>17.679703</td>\n",
       "      <td>26.622973</td>\n",
       "      <td>9587.704870</td>\n",
       "      <td>38.644225</td>\n",
       "      <td>0.749305</td>\n",
       "      <td>0.686516</td>\n",
       "      <td>0.674547</td>\n",
       "      <td>5.001313</td>\n",
       "      <td>0.418043</td>\n",
       "      <td>0.401685</td>\n",
       "      <td>0.441915</td>\n",
       "    </tr>\n",
       "    <tr>\n",
       "      <th>min</th>\n",
       "      <td>500.000000</td>\n",
       "      <td>0.000000</td>\n",
       "      <td>0.000000</td>\n",
       "      <td>7.000000</td>\n",
       "      <td>10.000000</td>\n",
       "      <td>697.000000</td>\n",
       "      <td>10.000000</td>\n",
       "      <td>0.000000</td>\n",
       "      <td>1.000000</td>\n",
       "      <td>0.000000</td>\n",
       "      <td>0.000000</td>\n",
       "      <td>0.000000</td>\n",
       "      <td>0.000000</td>\n",
       "      <td>0.000000</td>\n",
       "    </tr>\n",
       "    <tr>\n",
       "      <th>25%</th>\n",
       "      <td>1400.000000</td>\n",
       "      <td>330.000000</td>\n",
       "      <td>0.000000</td>\n",
       "      <td>18.500000</td>\n",
       "      <td>28.000000</td>\n",
       "      <td>1877.000000</td>\n",
       "      <td>40.000000</td>\n",
       "      <td>1.000000</td>\n",
       "      <td>1.000000</td>\n",
       "      <td>0.000000</td>\n",
       "      <td>2.000000</td>\n",
       "      <td>1.000000</td>\n",
       "      <td>0.000000</td>\n",
       "      <td>0.000000</td>\n",
       "    </tr>\n",
       "    <tr>\n",
       "      <th>50%</th>\n",
       "      <td>1950.000000</td>\n",
       "      <td>520.000000</td>\n",
       "      <td>55.000000</td>\n",
       "      <td>26.000000</td>\n",
       "      <td>39.000000</td>\n",
       "      <td>2616.000000</td>\n",
       "      <td>52.000000</td>\n",
       "      <td>1.000000</td>\n",
       "      <td>1.000000</td>\n",
       "      <td>1.000000</td>\n",
       "      <td>5.000000</td>\n",
       "      <td>1.000000</td>\n",
       "      <td>0.000000</td>\n",
       "      <td>1.000000</td>\n",
       "    </tr>\n",
       "    <tr>\n",
       "      <th>75%</th>\n",
       "      <td>2746.500000</td>\n",
       "      <td>800.000000</td>\n",
       "      <td>140.000000</td>\n",
       "      <td>36.000000</td>\n",
       "      <td>54.000000</td>\n",
       "      <td>3756.500000</td>\n",
       "      <td>76.000000</td>\n",
       "      <td>2.000000</td>\n",
       "      <td>2.000000</td>\n",
       "      <td>1.000000</td>\n",
       "      <td>9.000000</td>\n",
       "      <td>1.000000</td>\n",
       "      <td>0.000000</td>\n",
       "      <td>1.000000</td>\n",
       "    </tr>\n",
       "    <tr>\n",
       "      <th>max</th>\n",
       "      <td>11250.000000</td>\n",
       "      <td>3300.000000</td>\n",
       "      <td>495800.000000</td>\n",
       "      <td>187.000000</td>\n",
       "      <td>225.000000</td>\n",
       "      <td>499600.000000</td>\n",
       "      <td>587.000000</td>\n",
       "      <td>5.000000</td>\n",
       "      <td>7.000000</td>\n",
       "      <td>6.000000</td>\n",
       "      <td>43.000000</td>\n",
       "      <td>1.000000</td>\n",
       "      <td>1.000000</td>\n",
       "      <td>1.000000</td>\n",
       "    </tr>\n",
       "  </tbody>\n",
       "</table>\n",
       "</div>"
      ],
      "text/plain": [
       "            aluguel   condominio           iptu  seguro_incendio  \\\n",
       "count   2775.000000  2768.000000    2767.000000      2775.000000   \n",
       "mean    2279.097297   598.122832     283.561980        29.955315   \n",
       "std     1329.689743   430.102106    9424.657082        17.679703   \n",
       "min      500.000000     0.000000       0.000000         7.000000   \n",
       "25%     1400.000000   330.000000       0.000000        18.500000   \n",
       "50%     1950.000000   520.000000      55.000000        26.000000   \n",
       "75%     2746.500000   800.000000     140.000000        36.000000   \n",
       "max    11250.000000  3300.000000  495800.000000       187.000000   \n",
       "\n",
       "       taxa_serviço          total     metragem       quarto     banheiro  \\\n",
       "count   2775.000000    2775.000000  2775.000000  2775.000000  2775.000000   \n",
       "mean      45.379099    3235.018378    63.785586     1.593514     1.398919   \n",
       "std       26.622973    9587.704870    38.644225     0.749305     0.686516   \n",
       "min       10.000000     697.000000    10.000000     0.000000     1.000000   \n",
       "25%       28.000000    1877.000000    40.000000     1.000000     1.000000   \n",
       "50%       39.000000    2616.000000    52.000000     1.000000     1.000000   \n",
       "75%       54.000000    3756.500000    76.000000     2.000000     2.000000   \n",
       "max      225.000000  499600.000000   587.000000     5.000000     7.000000   \n",
       "\n",
       "        vaga_carro        andar   aceita_pet      mobilia   metro_prox  \n",
       "count  2775.000000  2775.000000  2775.000000  2775.000000  2775.000000  \n",
       "mean      0.628108     5.930090     0.774414     0.202162     0.734054  \n",
       "std       0.674547     5.001313     0.418043     0.401685     0.441915  \n",
       "min       0.000000     0.000000     0.000000     0.000000     0.000000  \n",
       "25%       0.000000     2.000000     1.000000     0.000000     0.000000  \n",
       "50%       1.000000     5.000000     1.000000     0.000000     1.000000  \n",
       "75%       1.000000     9.000000     1.000000     0.000000     1.000000  \n",
       "max       6.000000    43.000000     1.000000     1.000000     1.000000  "
      ]
     },
     "execution_count": 9,
     "metadata": {},
     "output_type": "execute_result"
    }
   ],
   "source": [
    "df.describe()"
   ]
  },
  {
   "cell_type": "markdown",
   "metadata": {
    "id": "1pIkJrwUh1wj"
   },
   "source": [
    "Ao chamar a função _describe()_ no dataframe \"df\", é possível obter alguns cálculos básicos relacionados às features numéricas do dataframe. As features são: \n",
    "* count = quantidade de valores (2775 linhas)\n",
    "* mean = média\n",
    "* std = desvio padrão (standard deviation)\n",
    "\n",
    "Ao analisar tais dados, é possível observar que a média dos preços de aluguel é de aprox. 2279 reais. A média do preço total é de aprox. 3235 reais.\n",
    "\n",
    "Esses valores possuem um significado muito importante. O preço total do aluguel corresponde aprox. ao triplo do salário mínimo no Brasil.\n",
    "\n",
    "Tal informação abre a (pelo menos) três interpretações possíveis:\n",
    "1.   Os dados estão deturpados;\n",
    "2.   A cidade de São Paulo possui um custo-de-vida altíssimo;\n",
    "3.   O portal QuintoAndar possui um viés, onde a maior parte de seus anúncios corresponde aos imóveis localizados nos bairros mais valorizados da cidade.\n",
    "\n",
    "Para constatar qual interpretação é a correta, vamos resgatar quais são os bairros que mais aparecem em nosso _dataset_."
   ]
  },
  {
   "cell_type": "code",
   "execution_count": 10,
   "metadata": {
    "colab": {
     "base_uri": "https://localhost:8080/"
    },
    "id": "tM-dQZMtlJc8",
    "outputId": "ae530ac7-a1a0-4e02-8742-fb884c22c040"
   },
   "outputs": [
    {
     "data": {
      "text/plain": [
       "Consolação             376\n",
       "Jardim Paulista        244\n",
       "Bela Vista             237\n",
       "Santa Cecília          216\n",
       "Pinheiros              153\n",
       "Vila Mariana           148\n",
       "Mooca                  134\n",
       "Perdizes               112\n",
       "Itaim Bibi             112\n",
       "Cambuci                110\n",
       "Liberdade              105\n",
       "Aclimação               97\n",
       "Centro                  94\n",
       "Paraíso                 76\n",
       "Ipiranga                76\n",
       "Barra Funda             69\n",
       "Belém                   69\n",
       "Bom Retiro              64\n",
       "Brás                    40\n",
       "Casa Verde              37\n",
       "Vila Olímpia            36\n",
       "Higienópolis            33\n",
       "Vila Guilherme          27\n",
       "Vila Nova Conceição     20\n",
       "Vila Pompéia            16\n",
       "Sumaré                  13\n",
       "Vila Clementino         12\n",
       "Santana                 12\n",
       "Canindé                  9\n",
       "Vila Maria               8\n",
       "Pari                     7\n",
       "Água Branca              5\n",
       "Vila Prudente            3\n",
       "Jardim América           2\n",
       "Moema                    2\n",
       "Pacaembu                 1\n",
       "Name: bairro, dtype: int64"
      ]
     },
     "execution_count": 10,
     "metadata": {},
     "output_type": "execute_result"
    }
   ],
   "source": [
    "df['bairro'].value_counts()"
   ]
  },
  {
   "cell_type": "markdown",
   "metadata": {
    "id": "hwvG7FUJla8o"
   },
   "source": [
    "_Touché!_ Quem conhece a cidade de São Paulo, identifica que os bairros que mais aparecem em nosso _dataset_ correspondem aos bairros mais ricos da cidade (e também do Brasil). \n",
    "\n",
    "# Vamos gerar um gráfico de barras. O eixo _x_ corresponderá aos nossos bairros, e o eixo _y_ corresponderá à média do preço total."
   ]
  },
  {
   "cell_type": "code",
   "execution_count": 11,
   "metadata": {
    "id": "TcnxvmcpmcwH"
   },
   "outputs": [],
   "source": [
    "# O seguinte groupby agrupa as colunas 'bairro' e 'total', calculando a média e colocando em ordem ascendente através da coluna 'total'.\n",
    "df_2 = df[['bairro', 'total']].groupby(['bairro']).mean().sort_values('total').reset_index()\n",
    "#df_2"
   ]
  },
  {
   "cell_type": "code",
   "execution_count": 12,
   "metadata": {
    "colab": {
     "base_uri": "https://localhost:8080/",
     "height": 459
    },
    "id": "98qOXwdjvLK3",
    "outputId": "7cfb199f-a3be-4b4b-83c4-cb5e311d6667"
   },
   "outputs": [
    {
     "data": {
      "image/png": "[encoded data removed]",
      "text/plain": [
       "<Figure size 432x288 with 1 Axes>"
      ]
     },
     "metadata": {
      "needs_background": "light"
     },
     "output_type": "display_data"
    }
   ],
   "source": [
    "import matplotlib.pyplot as plt\n",
    "%matplotlib inline\n",
    "\n",
    "fig = plt.figure()\n",
    "\n",
    "#This creates the size of the figure  [left, bottom, width, height (range 0 to 1)]\n",
    "axes = fig.add_axes([0, 0, 2, 1]) \n",
    "\n",
    "plt.bar('bairro', 'total', width=0.9, align='center', data=df_2)\n",
    "plt.xticks(rotation=85, fontsize=13)\n",
    "plt.show()"
   ]
  },
  {
   "cell_type": "code",
   "execution_count": 13,
   "metadata": {
    "id": "KXNGe8Wak9J2"
   },
   "outputs": [],
   "source": [
    "# O seguinte groupby cria uma nova coluna 'mediana_bairro', agrupa as colunas 'bairro' e 'total', calculando a mediana do bairro na nova coluna e realizando o merge das duas tabelas\n",
    "df_3 = df.groupby('bairro')['total'].agg(np.median).reset_index()\n",
    "df_3 = df_3.rename(columns={\"total\": \"mediana_bairro\"})\n",
    "df_4 = pd.merge(df, df_3, on=\"bairro\")\n",
    "#df_4"
   ]
  },
  {
   "cell_type": "code",
   "execution_count": 14,
   "metadata": {
    "colab": {
     "base_uri": "https://localhost:8080/",
     "height": 541
    },
    "id": "lbkkHDdOk6Fq",
    "outputId": "95ff5a1a-eff3-4401-8add-3df0e077918a"
   },
   "outputs": [
    {
     "data": {
      "text/html": [
       "<div>\n",
       "<style scoped>\n",
       "    .dataframe tbody tr th:only-of-type {\n",
       "        vertical-align: middle;\n",
       "    }\n",
       "\n",
       "    .dataframe tbody tr th {\n",
       "        vertical-align: top;\n",
       "    }\n",
       "\n",
       "    .dataframe thead th {\n",
       "        text-align: right;\n",
       "    }\n",
       "</style>\n",
       "<table border=\"1\" class=\"dataframe\">\n",
       "  <thead>\n",
       "    <tr style=\"text-align: right;\">\n",
       "      <th></th>\n",
       "      <th>bairro</th>\n",
       "      <th>aluguel</th>\n",
       "      <th>condominio</th>\n",
       "      <th>iptu</th>\n",
       "      <th>seguro_incendio</th>\n",
       "      <th>taxa_serviço</th>\n",
       "      <th>total</th>\n",
       "      <th>metragem</th>\n",
       "      <th>quarto</th>\n",
       "      <th>banheiro</th>\n",
       "      <th>vaga_carro</th>\n",
       "      <th>andar</th>\n",
       "      <th>aceita_pet</th>\n",
       "      <th>mobilia</th>\n",
       "      <th>metro_prox</th>\n",
       "      <th>mediana_bairro</th>\n",
       "      <th>m²_price</th>\n",
       "      <th>m²_bairro_price</th>\n",
       "      <th>lucro_m²</th>\n",
       "    </tr>\n",
       "  </thead>\n",
       "  <tbody>\n",
       "    <tr>\n",
       "      <th>1017</th>\n",
       "      <td>Jardim Paulista</td>\n",
       "      <td>1100.0</td>\n",
       "      <td>280.0</td>\n",
       "      <td>134.0</td>\n",
       "      <td>14.0</td>\n",
       "      <td>22.0</td>\n",
       "      <td>1550.0</td>\n",
       "      <td>18.0</td>\n",
       "      <td>1.0</td>\n",
       "      <td>1.0</td>\n",
       "      <td>0.0</td>\n",
       "      <td>1.0</td>\n",
       "      <td>0.0</td>\n",
       "      <td>1.0</td>\n",
       "      <td>1.0</td>\n",
       "      <td>4114.0</td>\n",
       "      <td>86.111111</td>\n",
       "      <td>228.555556</td>\n",
       "      <td>142.444444</td>\n",
       "    </tr>\n",
       "    <tr>\n",
       "      <th>2259</th>\n",
       "      <td>Vila Mariana</td>\n",
       "      <td>920.0</td>\n",
       "      <td>0.0</td>\n",
       "      <td>75.0</td>\n",
       "      <td>12.0</td>\n",
       "      <td>18.0</td>\n",
       "      <td>1025.0</td>\n",
       "      <td>22.0</td>\n",
       "      <td>1.0</td>\n",
       "      <td>1.0</td>\n",
       "      <td>0.0</td>\n",
       "      <td>1.0</td>\n",
       "      <td>1.0</td>\n",
       "      <td>0.0</td>\n",
       "      <td>1.0</td>\n",
       "      <td>3528.0</td>\n",
       "      <td>46.590909</td>\n",
       "      <td>160.363636</td>\n",
       "      <td>113.772727</td>\n",
       "    </tr>\n",
       "    <tr>\n",
       "      <th>2148</th>\n",
       "      <td>Vila Mariana</td>\n",
       "      <td>920.0</td>\n",
       "      <td>0.0</td>\n",
       "      <td>75.0</td>\n",
       "      <td>12.0</td>\n",
       "      <td>18.0</td>\n",
       "      <td>1025.0</td>\n",
       "      <td>22.0</td>\n",
       "      <td>1.0</td>\n",
       "      <td>1.0</td>\n",
       "      <td>0.0</td>\n",
       "      <td>1.0</td>\n",
       "      <td>1.0</td>\n",
       "      <td>0.0</td>\n",
       "      <td>1.0</td>\n",
       "      <td>3528.0</td>\n",
       "      <td>46.590909</td>\n",
       "      <td>160.363636</td>\n",
       "      <td>113.772727</td>\n",
       "    </tr>\n",
       "    <tr>\n",
       "      <th>1119</th>\n",
       "      <td>Jardim Paulista</td>\n",
       "      <td>1275.0</td>\n",
       "      <td>0.0</td>\n",
       "      <td>0.0</td>\n",
       "      <td>17.0</td>\n",
       "      <td>25.0</td>\n",
       "      <td>1317.0</td>\n",
       "      <td>25.0</td>\n",
       "      <td>1.0</td>\n",
       "      <td>1.0</td>\n",
       "      <td>0.0</td>\n",
       "      <td>0.0</td>\n",
       "      <td>1.0</td>\n",
       "      <td>0.0</td>\n",
       "      <td>1.0</td>\n",
       "      <td>4114.0</td>\n",
       "      <td>52.680000</td>\n",
       "      <td>164.560000</td>\n",
       "      <td>111.880000</td>\n",
       "    </tr>\n",
       "    <tr>\n",
       "      <th>1116</th>\n",
       "      <td>Jardim Paulista</td>\n",
       "      <td>1275.0</td>\n",
       "      <td>0.0</td>\n",
       "      <td>0.0</td>\n",
       "      <td>17.0</td>\n",
       "      <td>25.0</td>\n",
       "      <td>1317.0</td>\n",
       "      <td>25.0</td>\n",
       "      <td>1.0</td>\n",
       "      <td>1.0</td>\n",
       "      <td>0.0</td>\n",
       "      <td>0.0</td>\n",
       "      <td>1.0</td>\n",
       "      <td>0.0</td>\n",
       "      <td>1.0</td>\n",
       "      <td>4114.0</td>\n",
       "      <td>52.680000</td>\n",
       "      <td>164.560000</td>\n",
       "      <td>111.880000</td>\n",
       "    </tr>\n",
       "    <tr>\n",
       "      <th>...</th>\n",
       "      <td>...</td>\n",
       "      <td>...</td>\n",
       "      <td>...</td>\n",
       "      <td>...</td>\n",
       "      <td>...</td>\n",
       "      <td>...</td>\n",
       "      <td>...</td>\n",
       "      <td>...</td>\n",
       "      <td>...</td>\n",
       "      <td>...</td>\n",
       "      <td>...</td>\n",
       "      <td>...</td>\n",
       "      <td>...</td>\n",
       "      <td>...</td>\n",
       "      <td>...</td>\n",
       "      <td>...</td>\n",
       "      <td>...</td>\n",
       "      <td>...</td>\n",
       "      <td>...</td>\n",
       "    </tr>\n",
       "    <tr>\n",
       "      <th>1231</th>\n",
       "      <td>Consolação</td>\n",
       "      <td>6000.0</td>\n",
       "      <td>600.0</td>\n",
       "      <td>333.0</td>\n",
       "      <td>77.0</td>\n",
       "      <td>120.0</td>\n",
       "      <td>7130.0</td>\n",
       "      <td>67.0</td>\n",
       "      <td>2.0</td>\n",
       "      <td>1.0</td>\n",
       "      <td>2.0</td>\n",
       "      <td>3.0</td>\n",
       "      <td>1.0</td>\n",
       "      <td>1.0</td>\n",
       "      <td>1.0</td>\n",
       "      <td>2589.0</td>\n",
       "      <td>106.417910</td>\n",
       "      <td>38.641791</td>\n",
       "      <td>-67.776119</td>\n",
       "    </tr>\n",
       "    <tr>\n",
       "      <th>1481</th>\n",
       "      <td>Consolação</td>\n",
       "      <td>6000.0</td>\n",
       "      <td>600.0</td>\n",
       "      <td>333.0</td>\n",
       "      <td>77.0</td>\n",
       "      <td>120.0</td>\n",
       "      <td>7130.0</td>\n",
       "      <td>67.0</td>\n",
       "      <td>2.0</td>\n",
       "      <td>1.0</td>\n",
       "      <td>2.0</td>\n",
       "      <td>3.0</td>\n",
       "      <td>1.0</td>\n",
       "      <td>1.0</td>\n",
       "      <td>1.0</td>\n",
       "      <td>2589.0</td>\n",
       "      <td>106.417910</td>\n",
       "      <td>38.641791</td>\n",
       "      <td>-67.776119</td>\n",
       "    </tr>\n",
       "    <tr>\n",
       "      <th>390</th>\n",
       "      <td>Aclimação</td>\n",
       "      <td>7750.0</td>\n",
       "      <td>1100.0</td>\n",
       "      <td>359.0</td>\n",
       "      <td>99.0</td>\n",
       "      <td>155.0</td>\n",
       "      <td>9463.0</td>\n",
       "      <td>95.0</td>\n",
       "      <td>2.0</td>\n",
       "      <td>2.0</td>\n",
       "      <td>2.0</td>\n",
       "      <td>14.0</td>\n",
       "      <td>0.0</td>\n",
       "      <td>1.0</td>\n",
       "      <td>1.0</td>\n",
       "      <td>2626.0</td>\n",
       "      <td>99.610526</td>\n",
       "      <td>27.642105</td>\n",
       "      <td>-71.968421</td>\n",
       "    </tr>\n",
       "    <tr>\n",
       "      <th>2044</th>\n",
       "      <td>Bela Vista</td>\n",
       "      <td>6850.0</td>\n",
       "      <td>980.0</td>\n",
       "      <td>165.0</td>\n",
       "      <td>87.0</td>\n",
       "      <td>137.0</td>\n",
       "      <td>8219.0</td>\n",
       "      <td>78.0</td>\n",
       "      <td>1.0</td>\n",
       "      <td>1.0</td>\n",
       "      <td>1.0</td>\n",
       "      <td>1.0</td>\n",
       "      <td>0.0</td>\n",
       "      <td>1.0</td>\n",
       "      <td>1.0</td>\n",
       "      <td>2361.0</td>\n",
       "      <td>105.371795</td>\n",
       "      <td>30.269231</td>\n",
       "      <td>-75.102564</td>\n",
       "    </tr>\n",
       "    <tr>\n",
       "      <th>240</th>\n",
       "      <td>Santa Cecília</td>\n",
       "      <td>3600.0</td>\n",
       "      <td>0.0</td>\n",
       "      <td>495800.0</td>\n",
       "      <td>60.0</td>\n",
       "      <td>72.0</td>\n",
       "      <td>499600.0</td>\n",
       "      <td>150.0</td>\n",
       "      <td>4.0</td>\n",
       "      <td>3.0</td>\n",
       "      <td>0.0</td>\n",
       "      <td>0.0</td>\n",
       "      <td>1.0</td>\n",
       "      <td>0.0</td>\n",
       "      <td>1.0</td>\n",
       "      <td>2147.0</td>\n",
       "      <td>3330.666667</td>\n",
       "      <td>14.313333</td>\n",
       "      <td>-3316.353333</td>\n",
       "    </tr>\n",
       "  </tbody>\n",
       "</table>\n",
       "<p>2775 rows × 19 columns</p>\n",
       "</div>"
      ],
      "text/plain": [
       "               bairro  aluguel  condominio      iptu  seguro_incendio  \\\n",
       "1017  Jardim Paulista   1100.0       280.0     134.0             14.0   \n",
       "2259     Vila Mariana    920.0         0.0      75.0             12.0   \n",
       "2148     Vila Mariana    920.0         0.0      75.0             12.0   \n",
       "1119  Jardim Paulista   1275.0         0.0       0.0             17.0   \n",
       "1116  Jardim Paulista   1275.0         0.0       0.0             17.0   \n",
       "...               ...      ...         ...       ...              ...   \n",
       "1231       Consolação   6000.0       600.0     333.0             77.0   \n",
       "1481       Consolação   6000.0       600.0     333.0             77.0   \n",
       "390         Aclimação   7750.0      1100.0     359.0             99.0   \n",
       "2044       Bela Vista   6850.0       980.0     165.0             87.0   \n",
       "240     Santa Cecília   3600.0         0.0  495800.0             60.0   \n",
       "\n",
       "      taxa_serviço     total  metragem  quarto  banheiro  vaga_carro  andar  \\\n",
       "1017          22.0    1550.0      18.0     1.0       1.0         0.0    1.0   \n",
       "2259          18.0    1025.0      22.0     1.0       1.0         0.0    1.0   \n",
       "2148          18.0    1025.0      22.0     1.0       1.0         0.0    1.0   \n",
       "1119          25.0    1317.0      25.0     1.0       1.0         0.0    0.0   \n",
       "1116          25.0    1317.0      25.0     1.0       1.0         0.0    0.0   \n",
       "...            ...       ...       ...     ...       ...         ...    ...   \n",
       "1231         120.0    7130.0      67.0     2.0       1.0         2.0    3.0   \n",
       "1481         120.0    7130.0      67.0     2.0       1.0         2.0    3.0   \n",
       "390          155.0    9463.0      95.0     2.0       2.0         2.0   14.0   \n",
       "2044         137.0    8219.0      78.0     1.0       1.0         1.0    1.0   \n",
       "240           72.0  499600.0     150.0     4.0       3.0         0.0    0.0   \n",
       "\n",
       "      aceita_pet  mobilia  metro_prox  mediana_bairro     m²_price  \\\n",
       "1017         0.0      1.0         1.0          4114.0    86.111111   \n",
       "2259         1.0      0.0         1.0          3528.0    46.590909   \n",
       "2148         1.0      0.0         1.0          3528.0    46.590909   \n",
       "1119         1.0      0.0         1.0          4114.0    52.680000   \n",
       "1116         1.0      0.0         1.0          4114.0    52.680000   \n",
       "...          ...      ...         ...             ...          ...   \n",
       "1231         1.0      1.0         1.0          2589.0   106.417910   \n",
       "1481         1.0      1.0         1.0          2589.0   106.417910   \n",
       "390          0.0      1.0         1.0          2626.0    99.610526   \n",
       "2044         0.0      1.0         1.0          2361.0   105.371795   \n",
       "240          1.0      0.0         1.0          2147.0  3330.666667   \n",
       "\n",
       "      m²_bairro_price     lucro_m²  \n",
       "1017       228.555556   142.444444  \n",
       "2259       160.363636   113.772727  \n",
       "2148       160.363636   113.772727  \n",
       "1119       164.560000   111.880000  \n",
       "1116       164.560000   111.880000  \n",
       "...               ...          ...  \n",
       "1231        38.641791   -67.776119  \n",
       "1481        38.641791   -67.776119  \n",
       "390         27.642105   -71.968421  \n",
       "2044        30.269231   -75.102564  \n",
       "240         14.313333 -3316.353333  \n",
       "\n",
       "[2775 rows x 19 columns]"
      ]
     },
     "execution_count": 14,
     "metadata": {},
     "output_type": "execute_result"
    }
   ],
   "source": [
    "# Calcular o preço do m² e gerar uma nova coluna com os valores.\n",
    "df_4['m²_price'] = df_4['total']/df_4['metragem']\n",
    "df_4['m²_bairro_price'] = df_4['mediana_bairro']/df_4['metragem']\n",
    "\n",
    "# O lucro é calculado pela diferença entre preço/metragem do bairro e do próprio imóvel.\n",
    "df_4['lucro_m²'] = df_4['m²_bairro_price'] - df_4['m²_price'] # preço do m² do bairro subtraído pelo preço do m² no imóvel selecionado\n",
    "df_4.sort_values(by='lucro_m²', ascending=False)"
   ]
  },
  {
   "cell_type": "code",
   "execution_count": 15,
   "metadata": {
    "colab": {
     "base_uri": "https://localhost:8080/",
     "height": 333
    },
    "id": "rTL9pkTAjSu0",
    "outputId": "bd77b115-8636-4646-c8ed-6e46fec4c2b5"
   },
   "outputs": [
    {
     "data": {
      "text/plain": [
       "<AxesSubplot:>"
      ]
     },
     "execution_count": 15,
     "metadata": {},
     "output_type": "execute_result"
    },
    {
     "data": {
      "image/png": "[encoded data removed]",
      "text/plain": [
       "<Figure size 432x288 with 2 Axes>"
      ]
     },
     "metadata": {
      "needs_background": "light"
     },
     "output_type": "display_data"
    }
   ],
   "source": [
    "# análise de correlação\n",
    "df_5 = df_4[['bairro', 'total', 'metragem', 'quarto', 'banheiro', 'vaga_carro', 'andar', 'aceita_pet', 'mobilia', 'metro_prox']]\n",
    "#df_5['bairro'] = df_5['bairro'].astype('category').cat.codes   # para tornar as strings em números (categorias)\n",
    "correlation = df_5.corr()\n",
    "\n",
    "# plot da matriz de correlação\n",
    "import seaborn as sn\n",
    "\n",
    "plot = sn.heatmap(correlation, annot = True, fmt=\".1f\", linewidths=.6)\n",
    "plot"
   ]
  },
  {
   "cell_type": "markdown",
   "metadata": {
    "id": "LpEwOcUu-9UN"
   },
   "source": [
    "Como podemos interpretar os valores que ρ pode assumir?\n",
    "\n",
    "- ρ = 0,9 a 1,0 (positivo ou negativo): correlação muito forte;\n",
    "- ρ = 0,7 a 0,9 (positivo ou negativo): correlação forte;\n",
    "- ρ = 0,5 a 0,7 (positivo ou negativo): correlação moderada;\n",
    "- ρ = 0,3 a 0,5 (positivo ou negativo): correlação fraca;\n",
    "- ρ = 0 a 0,3 (positivo ou negativo): não possui correlação.\n",
    "\n",
    "Vamos considerar os valores de **0,7 a 1,0**, ou seja, valores com correlação **forte ou muito forte**.\n",
    "\n",
    "Com isso, é possível dizer que as correlações com tal valor são entre:\n",
    "- metragem e número de quartos;\n",
    "- metragem e número de banheiros;\n",
    "- número de quartos e número de banheiros.\n",
    "\n",
    "Tais informações obtidas não representam *insights*, pois são obviedades:\n",
    "- quanto maior a metragem, mais quartos e banheiros cabem no imóvel;\n",
    "- quanto mais quartos, mais banheiros."
   ]
  },
  {
   "cell_type": "markdown",
   "metadata": {
    "id": "_3QWaeT6KHSX"
   },
   "source": [
    "# Obtendo a correlação entre as features e o valor total do imóvel\n",
    "Para obter uma correlação mais precisa entre as features e o valor total do imóvel, separarei um bairro específico. Abaixo, foi selecionado o bairro da **Consolação** e gerado, novamente, o gráfico de correlações."
   ]
  },
  {
   "cell_type": "code",
   "execution_count": 16,
   "metadata": {
    "colab": {
     "base_uri": "https://localhost:8080/",
     "height": 316
    },
    "id": "k4rMXDIKKAVW",
    "outputId": "0dd77b3d-162c-4057-93ab-e2e47c84c596"
   },
   "outputs": [
    {
     "data": {
      "image/png": "[encoded data removed]",
      "text/plain": [
       "<Figure size 432x288 with 2 Axes>"
      ]
     },
     "metadata": {
      "needs_background": "light"
     },
     "output_type": "display_data"
    }
   ],
   "source": [
    "df_6 = df_5.loc[df_5['bairro'] == 'Consolação'] # Filtrar por bairro\n",
    "\n",
    "correlation = df_6.corr()\n",
    "\n",
    "# gerar o plot de correlação\n",
    "plot = sn.heatmap(correlation, annot = True, fmt=\".1f\", linewidths=.6)"
   ]
  },
  {
   "cell_type": "markdown",
   "metadata": {
    "id": "b2z0yD_bPM5o"
   },
   "source": [
    "Com dados de preço mais padronizados (segmentados no bairro 'Consolação'), agora é possível realizar novas análises:\n",
    "- aumento de 10% na correlação entre o tamanho da metragem do imóvel e as features 'quarto' e 'banheiro';\n",
    "- que há, dentro de um bairro/região, correlação forte entre o preço total do imóvel e as features 'metragem', 'quarto' e 'banheiro';\n",
    "- que as correlações da feature 'metro_prox' estão em branco, pois todos os imóveis são próximos do metrô (metrô do bairro Consolação).\n",
    "\n",
    "\n",
    "Agora sabemos, com segurança, que as principais features de nosso *dataset* são o número de banheiros, de quartos e a metragem. \n",
    "\n",
    "Vamos gerar, pensando em um bairro específico, gráficos de linhas:\n",
    "- eixo x: diferentes valores das features;\n",
    "- eixo y: média do preço total considerando cada um desses valores."
   ]
  },
  {
   "cell_type": "code",
   "execution_count": 21,
   "metadata": {
    "colab": {
     "base_uri": "https://localhost:8080/",
     "height": 419
    },
    "id": "Fg39MbWIMDFJ",
    "outputId": "2a09c26c-ab23-4780-8fbd-06d27a955f18"
   },
   "outputs": [
    {
     "data": {
      "text/html": [
       "<div>\n",
       "<style scoped>\n",
       "    .dataframe tbody tr th:only-of-type {\n",
       "        vertical-align: middle;\n",
       "    }\n",
       "\n",
       "    .dataframe tbody tr th {\n",
       "        vertical-align: top;\n",
       "    }\n",
       "\n",
       "    .dataframe thead th {\n",
       "        text-align: right;\n",
       "    }\n",
       "</style>\n",
       "<table border=\"1\" class=\"dataframe\">\n",
       "  <thead>\n",
       "    <tr style=\"text-align: right;\">\n",
       "      <th></th>\n",
       "      <th>metragem</th>\n",
       "      <th>total</th>\n",
       "    </tr>\n",
       "  </thead>\n",
       "  <tbody>\n",
       "    <tr>\n",
       "      <th>0</th>\n",
       "      <td>22.0</td>\n",
       "      <td>2355.0</td>\n",
       "    </tr>\n",
       "    <tr>\n",
       "      <th>1</th>\n",
       "      <td>23.0</td>\n",
       "      <td>2283.0</td>\n",
       "    </tr>\n",
       "    <tr>\n",
       "      <th>2</th>\n",
       "      <td>24.0</td>\n",
       "      <td>2173.0</td>\n",
       "    </tr>\n",
       "    <tr>\n",
       "      <th>3</th>\n",
       "      <td>25.0</td>\n",
       "      <td>2097.5</td>\n",
       "    </tr>\n",
       "    <tr>\n",
       "      <th>4</th>\n",
       "      <td>26.0</td>\n",
       "      <td>2364.0</td>\n",
       "    </tr>\n",
       "    <tr>\n",
       "      <th>...</th>\n",
       "      <td>...</td>\n",
       "      <td>...</td>\n",
       "    </tr>\n",
       "    <tr>\n",
       "      <th>61</th>\n",
       "      <td>132.0</td>\n",
       "      <td>3784.0</td>\n",
       "    </tr>\n",
       "    <tr>\n",
       "      <th>62</th>\n",
       "      <td>145.0</td>\n",
       "      <td>4128.0</td>\n",
       "    </tr>\n",
       "    <tr>\n",
       "      <th>63</th>\n",
       "      <td>147.0</td>\n",
       "      <td>9073.0</td>\n",
       "    </tr>\n",
       "    <tr>\n",
       "      <th>64</th>\n",
       "      <td>167.0</td>\n",
       "      <td>5455.0</td>\n",
       "    </tr>\n",
       "    <tr>\n",
       "      <th>65</th>\n",
       "      <td>280.0</td>\n",
       "      <td>11480.0</td>\n",
       "    </tr>\n",
       "  </tbody>\n",
       "</table>\n",
       "<p>66 rows × 2 columns</p>\n",
       "</div>"
      ],
      "text/plain": [
       "    metragem    total\n",
       "0       22.0   2355.0\n",
       "1       23.0   2283.0\n",
       "2       24.0   2173.0\n",
       "3       25.0   2097.5\n",
       "4       26.0   2364.0\n",
       "..       ...      ...\n",
       "61     132.0   3784.0\n",
       "62     145.0   4128.0\n",
       "63     147.0   9073.0\n",
       "64     167.0   5455.0\n",
       "65     280.0  11480.0\n",
       "\n",
       "[66 rows x 2 columns]"
      ]
     },
     "execution_count": 21,
     "metadata": {},
     "output_type": "execute_result"
    }
   ],
   "source": [
    "df_6 = df_5.loc[df_5['bairro'] == 'Consolação'] # Filtrar por bairro\n",
    "#df_6\n",
    "\n",
    "# Vamos agrupar a coluna metragem e seus preços totais correspondentes\n",
    "df_metragem = df_6.groupby('metragem')['total'].agg(np.median).reset_index()\n",
    "df_metragem"
   ]
  },
  {
   "cell_type": "code",
   "execution_count": 22,
   "metadata": {
    "colab": {
     "base_uri": "https://localhost:8080/",
     "height": 295
    },
    "id": "_nVoI0mbOxnE",
    "outputId": "e8e1aeb4-1ed5-47d8-db1f-9eee68f993ae"
   },
   "outputs": [
    {
     "data": {
      "image/png": "[encoded data removed]",
      "text/plain": [
       "<Figure size 432x288 with 1 Axes>"
      ]
     },
     "metadata": {
      "needs_background": "light"
     },
     "output_type": "display_data"
    }
   ],
   "source": [
    "# Eixo x = metragem   Eixo y = total\n",
    "plt.plot(df_metragem['metragem'], df_metragem['total'], label = \"Metragem\")\n",
    "\n",
    "plt.xlabel('Quantidade da feature') # etiqueta do eixo X\n",
    "plt.ylabel('Preço total') # etiqueta do eixo Y\n",
    "plt.title('Relação da quantidade de metragem e seus preços totais') # Título do gráfico\n",
    "plt.legend() # exibir legenda dentro do gráfico\n",
    "plt.show()"
   ]
  },
  {
   "cell_type": "code",
   "execution_count": 23,
   "metadata": {
    "colab": {
     "base_uri": "https://localhost:8080/",
     "height": 173
    },
    "id": "gGHjENy_Pfcb",
    "outputId": "1971f820-027c-421a-8ea7-9b0de47f8bb1"
   },
   "outputs": [
    {
     "data": {
      "text/html": [
       "<div>\n",
       "<style scoped>\n",
       "    .dataframe tbody tr th:only-of-type {\n",
       "        vertical-align: middle;\n",
       "    }\n",
       "\n",
       "    .dataframe tbody tr th {\n",
       "        vertical-align: top;\n",
       "    }\n",
       "\n",
       "    .dataframe thead th {\n",
       "        text-align: right;\n",
       "    }\n",
       "</style>\n",
       "<table border=\"1\" class=\"dataframe\">\n",
       "  <thead>\n",
       "    <tr style=\"text-align: right;\">\n",
       "      <th></th>\n",
       "      <th>banheiro</th>\n",
       "      <th>total</th>\n",
       "    </tr>\n",
       "  </thead>\n",
       "  <tbody>\n",
       "    <tr>\n",
       "      <th>0</th>\n",
       "      <td>1.0</td>\n",
       "      <td>2374.0</td>\n",
       "    </tr>\n",
       "    <tr>\n",
       "      <th>1</th>\n",
       "      <td>2.0</td>\n",
       "      <td>3760.5</td>\n",
       "    </tr>\n",
       "    <tr>\n",
       "      <th>2</th>\n",
       "      <td>3.0</td>\n",
       "      <td>4128.0</td>\n",
       "    </tr>\n",
       "    <tr>\n",
       "      <th>3</th>\n",
       "      <td>5.0</td>\n",
       "      <td>9073.0</td>\n",
       "    </tr>\n",
       "  </tbody>\n",
       "</table>\n",
       "</div>"
      ],
      "text/plain": [
       "   banheiro   total\n",
       "0       1.0  2374.0\n",
       "1       2.0  3760.5\n",
       "2       3.0  4128.0\n",
       "3       5.0  9073.0"
      ]
     },
     "execution_count": 23,
     "metadata": {},
     "output_type": "execute_result"
    }
   ],
   "source": [
    "# Vamos agrupar a coluna quarto e seus preços totais correspondentes\n",
    "df_quarto = df_6.groupby('quarto')['total'].agg(np.median).reset_index()\n",
    "# Vamos agrupar a coluna banheiro e seus preços totais correspondentes\n",
    "df_banheiro = df_6.groupby('banheiro')['total'].agg(np.median).reset_index()\n",
    "\n",
    "df_banheiro"
   ]
  },
  {
   "cell_type": "code",
   "execution_count": 24,
   "metadata": {
    "colab": {
     "base_uri": "https://localhost:8080/",
     "height": 295
    },
    "id": "YkYH6lsPPIub",
    "outputId": "007bb7b3-1d2c-453b-f1d5-9afd98760e8f"
   },
   "outputs": [
    {
     "data": {
      "image/png": "[encoded data removed]",
      "text/plain": [
       "<Figure size 432x288 with 1 Axes>"
      ]
     },
     "metadata": {
      "needs_background": "light"
     },
     "output_type": "display_data"
    }
   ],
   "source": [
    "# Eixo x = metragem   Eixo y = total\n",
    "plt.plot(df_quarto['quarto'], df_quarto['total'], label = \"Número de quartos\")\n",
    "plt.plot(df_banheiro['banheiro'], df_banheiro['total'], label = \"Número de banheiros\")\n",
    "\n",
    "plt.xlabel('Quantidade da feature') # etiqueta do axis X\n",
    "plt.ylabel('Preço total') # etiqueta do axis Y\n",
    "plt.title('Relação da quantidade de quartos e banheiros e seus preços totais')  # Título do gráfico\n",
    "plt.legend() # exibir legenda dentro do gráfico\n",
    "plt.show()"
   ]
  },
  {
   "cell_type": "markdown",
   "metadata": {
    "id": "2fdHiACDQYz8"
   },
   "source": [
    "Algumas conclusões:\n",
    "- É possível observar bem, ao utilizarmos o gráfico de linhas, que o número de quartos e banheiros (quase) sempre acompanham o aumento do preço total. \n",
    "- A depender do bairro, há um salto no preço de imóveis com **x** quartos e **y** banheiros.\n",
    "- Também é possível, com o gráfico de linha, detectar dados absurdos não vistos na etapa do tratamento de dados, e assim corrigí-los."
   ]
  }
 ],
 "metadata": {
  "colab": {
   "name": "4_analise_exploratoria.ipynb",
   "provenance": []
  },
  "kernelspec": {
   "display_name": "Python 3",
   "language": "python",
   "name": "python3"
  },
  "language_info": {
   "codemirror_mode": {
    "name": "ipython",
    "version": 3
   },
   "file_extension": ".py",
   "mimetype": "text/x-python",
   "name": "python",
   "nbconvert_exporter": "python",
   "pygments_lexer": "ipython3",
   "version": "3.9.0"
  },
  "varInspector": {
   "cols": {
    "lenName": 16,
    "lenType": 16,
    "lenVar": 40
   },
   "kernels_config": {
    "python": {
     "delete_cmd_postfix": "",
     "delete_cmd_prefix": "del ",
     "library": "var_list.py",
     "varRefreshCmd": "print(var_dic_list())"
    },
    "r": {
     "delete_cmd_postfix": ") ",
     "delete_cmd_prefix": "rm(",
     "library": "var_list.r",
     "varRefreshCmd": "cat(var_dic_list()) "
    }
   },
   "types_to_exclude": [
    "module",
    "function",
    "builtin_function_or_method",
    "instance",
    "_Feature"
   ],
   "window_display": false
  }
 },
 "nbformat": 4,
 "nbformat_minor": 1
}
