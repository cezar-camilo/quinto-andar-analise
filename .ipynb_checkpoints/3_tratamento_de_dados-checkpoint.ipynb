{
 "cells": [
  {
   "cell_type": "code",
   "execution_count": 31,
   "id": "1ad03614",
   "metadata": {},
   "outputs": [],
   "source": [
    "import pandas as pd\n",
    "import numpy as np"
   ]
  },
  {
   "cell_type": "code",
   "execution_count": 33,
   "id": "7def0ecd",
   "metadata": {},
   "outputs": [],
   "source": [
    "def tratamento_de_dados(dataset_path, output_path):\n",
    "    new_df = pd.read_csv(dataset_path)\n",
    "\n",
    "    new_df.dropna()\n",
    "    new_df['condominio'] = new_df['condominio'].replace(['Incluso'], 'R$ 0') # Transformando condomínio 'Incluso' em 'R$ 0'\n",
    "    #new_df['andar'] = new_df['andar'].replace(['51º andar'], '5º andar') # Se houver erro de digitação em algum andar. Esta feature, por exemplo, deveria ser '5º andar' \n",
    "    #new_df = new_df.drop([1562], axis=0) # Dei drop em uma linha defeituosa\n",
    "    #new_df = new_df.drop([848], axis=0) # Dei drop em uma linha defeituosa\n",
    "\n",
    "    new_df.fillna(0) # Os dados NaN serão preenchidos com um '0'\n",
    "\n",
    "    colunas_numericas = ['aluguel', 'condominio', 'iptu', 'seguro_incendio', 'taxa_serviço', 'total', 'metragem', 'quarto', 'banheiro', 'vaga_carro', 'andar', 'aceita_pet', 'mobilia', 'metro_prox']\n",
    "    \n",
    "    # utilizar o replace('[\\D]', '', regex=True), errors='coerce') deixará apenas os caracteres que sejam dígitos\n",
    "    \n",
    "    # preços\n",
    "    new_df['aluguel'] = pd.to_numeric(new_df['aluguel'].replace('[\\D]', '', regex=True), errors='coerce').astype(float)\n",
    "    new_df['condominio'] = pd.to_numeric(new_df['condominio'].replace('[\\D]', '', regex=True), errors='coerce').astype(float)\n",
    "    new_df['iptu'] = pd.to_numeric(new_df['iptu'].replace('[\\D]', '', regex=True), errors='coerce').astype(float)\n",
    "    new_df['seguro_incendio'] = pd.to_numeric(new_df['seguro_incendio'].replace('[\\D]', '', regex=True), errors='coerce').astype(float)\n",
    "    new_df['taxa_serviço'] = pd.to_numeric(new_df['taxa_serviço'].replace('[\\D]', '', regex=True), errors='coerce').astype(float)\n",
    "    new_df['total'] = pd.to_numeric(new_df['total'].replace('[\\D]', '', regex=True), errors='coerce').astype(float)\n",
    "\n",
    "    #metragem em m²\n",
    "    new_df['metragem'] = pd.to_numeric(new_df['metragem'].replace('[\\D]', '', regex=True), errors='coerce').astype(float)\n",
    "    #quarto\n",
    "    new_df['quarto'] = pd.to_numeric(new_df['quarto'].replace('[\\D]', '', regex=True), errors='coerce').astype(float)\n",
    "    #banheiro\n",
    "    new_df['banheiro'] = pd.to_numeric(new_df['banheiro'].replace('[\\D]', '', regex=True), errors='coerce').astype(float)\n",
    "    #vaga_carro\n",
    "    new_df['vaga_carro'] = pd.to_numeric(new_df['vaga_carro'].replace('[\\D]', '', regex=True), errors='coerce').astype(float).fillna(0.0) # NaN é 'Sem vaga', coloquei como '0'\n",
    "    #andar, se for 0 é térreo\n",
    "    new_df['andar'] = pd.to_numeric(new_df['andar'].replace('[\\D]', '', regex=True), errors='coerce').astype(float).fillna(0.0) # NaN é 'Térreo', coloquei '0'.\n",
    "\n",
    "    new_df = new_df.replace({'aceita_pet':{'Aceita pet': 1, 'Não aceita': 0}})\n",
    "    new_df = new_df.replace({'mobilia':{'Mobiliado': 1, 'Sem mobília': 0}})\n",
    "    new_df = new_df.replace({'metro_prox':{'Metrô próx.': 1, 'Não próx.': 0}})\n",
    "    new_df[['aceita_pet', 'mobilia', 'metro_prox']] = new_df[['aceita_pet', 'mobilia', 'metro_prox']].astype(float)\n",
    "    \n",
    "    \n",
    "    new_df.to_csv(output_path + '\\dados_tratados.csv', index=False)"
   ]
  },
  {
   "cell_type": "code",
   "execution_count": 34,
   "id": "17674c37",
   "metadata": {},
   "outputs": [],
   "source": [
    "if __name__ == '__main__':\n",
    "    # Função de tratamento de dados\n",
    "    # Insira aqui o path para seu dataset com as features colhidas de cada URL, e a pasta para extração do CSV tratado em output_path\n",
    "    dataset_path = r'C:\\Users\\PC\\Desktop\\quinto-andar-analise\\datasets\\dataset_0_3500.csv'\n",
    "    output_path = r'C:\\Users\\PC\\Desktop\\quinto-andar-analise\\datasets'\n",
    "\n",
    "    tratamento_de_dados(dataset_path, output_path)"
   ]
  }
 ],
 "metadata": {
  "kernelspec": {
   "display_name": "Python 3 (ipykernel)",
   "language": "python",
   "name": "python3"
  },
  "language_info": {
   "codemirror_mode": {
    "name": "ipython",
    "version": 3
   },
   "file_extension": ".py",
   "mimetype": "text/x-python",
   "name": "python",
   "nbconvert_exporter": "python",
   "pygments_lexer": "ipython3",
   "version": "3.7.0"
  }
 },
 "nbformat": 4,
 "nbformat_minor": 5
}
